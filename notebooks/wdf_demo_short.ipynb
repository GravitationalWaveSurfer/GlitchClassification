{
 "cells": [
  {
   "cell_type": "markdown",
   "id": "7dd434cd",
   "metadata": {},
   "source": [
    "# A short demo on the Wavelet Detection Filter"
   ]
  },
  {
   "cell_type": "markdown",
   "id": "dabae8cf",
   "metadata": {},
   "source": [
    "We present here a brief example of usage of WDF for gravitational wave data analysis. WDF uses the pytsa (a python embedding for p4TSA) library for data preprocessing and searches for burst signals with a wavelet based method. Let's import some useful libraries:"
   ]
  },
  {
   "cell_type": "code",
   "execution_count": 52,
   "id": "ed56245d",
   "metadata": {},
   "outputs": [],
   "source": [
    "import time\n",
    "import os\n",
    "import sys\n",
    "from tempfile import NamedTemporaryFile\n",
    "from pytsa.tsa import *\n",
    "from pytsa.tsa import SeqView_double_t as SV\n",
    "from pytsa.tsa import WaveletThreshold\n",
    "from wdf.config.Parameters import *\n",
    "from wdf.processes.wdfUnitDSWorker import * \n",
    "from wdf.observers.ParameterEstimationObserver import ParameterEstimation\n",
    "from wdf.observers.SingleEventPrintFileObserver import SingleEventPrintTriggers\n",
    "from wdf.processes.BandPassDownSampling import BandPassDownSampling\n",
    "from wdf.processes.wdf import wdf\n",
    "from wdf.processes.Whitening import Whitening \n",
    "from wdf.processes.DWhitening import DWhitening\n",
    "\n",
    "\n",
    "from glob import glob\n",
    "import json\n",
    "import logging\n",
    "import coloredlogs\n",
    "import numpy as np\n",
    "import matplotlib.pyplot as plt\n",
    "coloredlogs.install(isatty=True)\n",
    "import matplotlib\n",
    "import pandas as pd\n",
    "matplotlib.rcParams['agg.path.chunksize']=10000\n",
    "\n",
    "%matplotlib inline"
   ]
  },
  {
   "cell_type": "code",
   "execution_count": 2,
   "id": "b65156b4",
   "metadata": {},
   "outputs": [
    {
     "data": {
      "text/plain": [
       "'/users/iess/GlitchClassification/notebooks'"
      ]
     },
     "execution_count": 2,
     "metadata": {},
     "output_type": "execute_result"
    }
   ],
   "source": [
    "os.getcwd()"
   ]
  },
  {
   "cell_type": "markdown",
   "id": "66e07cbe",
   "metadata": {},
   "source": [
    "We define a function to plot the data contained in the SequenceView Objects later on."
   ]
  },
  {
   "cell_type": "code",
   "execution_count": 3,
   "id": "2c00568a",
   "metadata": {},
   "outputs": [],
   "source": [
    "def plot_SV(data_sv, colour='b'):\n",
    "    x = np.zeros(data_sv.GetSize())\n",
    "    y = np.zeros(data_sv.GetSize())\n",
    "    for i in range(data_sv.GetSize()):\n",
    "        x[i] = data_sv.GetX(i)\n",
    "        y[i] = data_sv.GetY(0,i)\n",
    "    plt.plot(x,y, colour), plt.grid()\n",
    "    return x, y"
   ]
  },
  {
   "cell_type": "markdown",
   "id": "a16b157a",
   "metadata": {},
   "source": [
    "Importing script from my project repository:"
   ]
  },
  {
   "cell_type": "code",
   "execution_count": 4,
   "id": "79d103f6",
   "metadata": {},
   "outputs": [],
   "source": [
    "sys.path.append(\"../scripts\")\n",
    "import segments\n",
    "import get_git_repo_root"
   ]
  },
  {
   "cell_type": "code",
   "execution_count": 24,
   "id": "ac957774",
   "metadata": {},
   "outputs": [
    {
     "data": {
      "text/plain": [
       "[[1387513848.0, 1387609426.0]]"
      ]
     },
     "execution_count": 24,
     "metadata": {},
     "output_type": "execute_result"
    }
   ],
   "source": [
    "segments.get_list(tmin=1387513845, tmax=1387611370)       # values suggested by Francesco"
   ]
  },
  {
   "cell_type": "markdown",
   "id": "6ec840cc",
   "metadata": {},
   "source": [
    "When launching WDF, we supply a number of parameters and configuration options. These parameters are loaded into WDF from a dictionary in a JSON configuration file."
   ]
  },
  {
   "cell_type": "code",
   "execution_count": 66,
   "id": "2734dfa5",
   "metadata": {},
   "outputs": [
    {
     "data": {
      "text/plain": [
       "'/users/iess/GlitchClassification/results/'"
      ]
     },
     "execution_count": 66,
     "metadata": {},
     "output_type": "execute_result"
    }
   ],
   "source": [
    "results_dir"
   ]
  },
  {
   "cell_type": "code",
   "execution_count": 58,
   "id": "b0483f20",
   "metadata": {},
   "outputs": [
    {
     "name": "stdout",
     "output_type": "stream",
     "text": [
      "/users/iess/GlitchClassification/results/test_configuration_short.json\n"
     ]
    }
   ],
   "source": [
    "results_dir = os.path.join(get_git_repo_root.repo_root(), 'results/')\n",
    "ffl_list = '/virgoData/ffl/raw.ffl'\n",
    "\n",
    "configuration = {\n",
    "   \"sampling\": 16384,\n",
    "   \"window\": 512,                     # 512 --> wavelet window after resampling is 0.25 seconds\n",
    "   \"overlap\": 128,                    # overlap between adjacent wavelet windows\n",
    "   \"threshold\": 0.3,                  # stay between 0.2 and 0.5\n",
    "   \"len\": 10.0,                       # length of data loaded in WDF loop at each iteration\n",
    "   \"ResamplingFactor\":8,              # 16kHz---> 2kHz \n",
    "   \"run\": \"run\",                    # Name of the run, don't change\n",
    "   'ID': 'test',\n",
    "   'dir': results_dir,\n",
    "   'file': ffl_list,            # can be the .gwf file or an ffl list of .gwf files \n",
    "   'channel': 'V1:Hrec_hoft_16384Hz',   # channel of data, gravitational wave strain from Virgo at 16kHz\n",
    "   \"outdir\": results_dir,    # output directory for whitened data, keep same as dir\n",
    "   \"ARorder\": 500, #edited from 1000         # Order of the autoregressive model, can set lower for synthetic noise\n",
    "   \"learn\": 100, #edited from 100                # number of seconds at beginning of a segment, used to compute AR parameters\n",
    "                                # check scipy.signal.welch for the welch spectrogram\n",
    "   'preWhite':3,                    \n",
    "#   'nproc': 4,\n",
    "   'gps': 0.0,                 # if we want to provide gps to start analysis\n",
    "    'segments': segments.get_list()[0]      # list of segments to analyze\n",
    "    }                \n",
    " \n",
    "filejson = os.path.join(results_dir,\"test_configuration_short.json\")\n",
    "file_json = open(filejson, \"w+\")       \n",
    "json.dump(configuration, file_json)\n",
    "file_json.close()\n",
    "\n",
    "print(filejson)"
   ]
  },
  {
   "cell_type": "code",
   "execution_count": 7,
   "id": "f5177a42",
   "metadata": {},
   "outputs": [
    {
     "name": "stdout",
     "output_type": "stream",
     "text": [
      "{   'ARorder': 500,\n",
      "    'ID': 'test',\n",
      "    'ResamplingFactor': 8,\n",
      "    'channel': 'V1:Hrec_hoft_16384Hz',\n",
      "    'dir': '/users/iess/GlitchClassification/results',\n",
      "    'file': '/virgoData/ffl/raw.ffl',\n",
      "    'gps': 0.0,\n",
      "    'learn': 100,\n",
      "    'len': 10.0,\n",
      "    'outdir': '/users/iess/GlitchClassification/results',\n",
      "    'overlap': 128,\n",
      "    'preWhite': 3,\n",
      "    'run': 'run',\n",
      "    'sampling': 16384,\n",
      "    'segments': [1387470702.0, 1387497578.0],\n",
      "    'threshold': 0.3,\n",
      "    'window': 512}\n"
     ]
    }
   ],
   "source": [
    "par = Parameters()\n",
    "par.load(filejson)      \n",
    "par.print()"
   ]
  },
  {
   "cell_type": "markdown",
   "id": "1e446d96",
   "metadata": {},
   "source": [
    "## WDF downsampling"
   ]
  },
  {
   "cell_type": "markdown",
   "id": "d5fae4d6",
   "metadata": {},
   "source": [
    "Before running WDF whitening procedure, we have to downsample the data to the desired frequency. Since our `par.ResamplingFactor = 8`, our initial frequency of 16 kHz shall be downsampled to 2 kHz."
   ]
  },
  {
   "cell_type": "code",
   "execution_count": 26,
   "id": "bb757e28",
   "metadata": {},
   "outputs": [],
   "source": [
    "par.resampling = int(par.sampling/par.ResamplingFactor)"
   ]
  },
  {
   "cell_type": "code",
   "execution_count": 27,
   "id": "307781ad",
   "metadata": {},
   "outputs": [
    {
     "data": {
      "text/plain": [
       "2048"
      ]
     },
     "execution_count": 27,
     "metadata": {},
     "output_type": "execute_result"
    }
   ],
   "source": [
    "par.resampling"
   ]
  },
  {
   "cell_type": "code",
   "execution_count": 28,
   "id": "ad8474de",
   "metadata": {},
   "outputs": [],
   "source": [
    "par.ARfile = os.path.join(results_dir, \"ARcoeff-AR%s-fs%s-%s.txt\" % (\n",
    "                par.ARorder, par.resampling, par.channel))\n",
    "par.LVfile = os.path.join(results_dir, \"LVcoeff-AR%s-fs%s-%s.txt\" % (\n",
    "                par.ARorder, par.resampling, par.channel))"
   ]
  },
  {
   "cell_type": "code",
   "execution_count": 29,
   "id": "bb951bcd",
   "metadata": {},
   "outputs": [],
   "source": [
    "gpsStart, gpsEnd = par.segments[0], par.segments[1]\n",
    "\n",
    "if gpsEnd - gpsStart >= par.learn + 100.0:\n",
    "    gpsE = gpsStart + 100.0\n",
    "else:\n",
    "    gpsE = gpsEnd - par.learn            \n",
    "\n",
    "strLearn = FrameIChannel(par.file, par.channel, par.learn, gpsE)     # define a stream for downsampling data (DS)\n",
    "Learn = SV()         # define SeqView to put the stream of raw data\n",
    "Learn_DS = SV()      # define SeqView to put the downsampled data\n",
    "ds = BandPassDownSampling(par,estimation=True)       # define the downsampling object\n",
    "strLearn.GetData(Learn)         # put the raw data in the seqView\n",
    "Learn_DS=ds.Process(Learn)      # run downsampling and put the downsampled data in Learn_DS\n",
    "    \n",
    "del Learn, strLearn"
   ]
  },
  {
   "cell_type": "markdown",
   "id": "e3185ed9",
   "metadata": {},
   "source": [
    "Let us now plot the **DOWNSAMPLED STRAIN**, which we call *h*"
   ]
  },
  {
   "cell_type": "code",
   "execution_count": 32,
   "id": "7858e8c0",
   "metadata": {},
   "outputs": [
    {
     "data": {
      "image/png": "[encoded data removed]",
      "text/plain": [
       "<Figure size 640x480 with 1 Axes>"
      ]
     },
     "metadata": {},
     "output_type": "display_data"
    }
   ],
   "source": [
    "plot_SV(Learn_DS), plt.xlabel('gps time'), plt.ylabel('h strain downsampled'), plt.xlim(par.segments[0]+0, par.segments[0]+100+par.learn);\n"
   ]
  },
  {
   "cell_type": "code",
   "execution_count": 36,
   "id": "bce998e7",
   "metadata": {},
   "outputs": [
    {
     "data": {
      "text/plain": [
       "2048.0"
      ]
     },
     "execution_count": 36,
     "metadata": {},
     "output_type": "execute_result"
    }
   ],
   "source": [
    "1/Learn_DS.GetSampling()      # cross check downsampling"
   ]
  },
  {
   "cell_type": "markdown",
   "id": "65cc9aca",
   "metadata": {},
   "source": [
    "## WDF whitening"
   ]
  },
  {
   "cell_type": "markdown",
   "id": "834d1ab0",
   "metadata": {},
   "source": [
    "We now show how to whiten data with WDF. To do so, we have to give the `par.ARorder` parameter. Note that we use the downsampled SeqView object `Learn_DS` to evaluate the whitening parameters."
   ]
  },
  {
   "cell_type": "code",
   "execution_count": 37,
   "id": "bd0e1327",
   "metadata": {},
   "outputs": [],
   "source": [
    "from wdf.processes.Whitening import Whitening\n",
    "from wdf.processes.DWhitening import  DWhitening"
   ]
  },
  {
   "cell_type": "code",
   "execution_count": 38,
   "id": "2a8b6867",
   "metadata": {},
   "outputs": [],
   "source": [
    "whiten = Whitening(par.ARorder)"
   ]
  },
  {
   "cell_type": "code",
   "execution_count": 39,
   "id": "6a6db955",
   "metadata": {},
   "outputs": [
    {
     "name": "stdout",
     "output_type": "stream",
     "text": [
      "Parameters loaded from /users/iess/GlitchClassification/results/ARcoeff-AR500-fs2048-V1:Hrec_hoft_16384Hz.txt\n"
     ]
    }
   ],
   "source": [
    "if os.path.isfile(par.ARfile):\n",
    "    whiten.ParametersLoad(par.ARfile, par.LVfile)\n",
    "    print(f'Parameters loaded from {par.ARfile}')\n",
    "else:\n",
    "    whiten.ParametersEstimate(Learn_DS)\n",
    "    whiten.ParametersSave(par.ARfile, par.LVfile)\n",
    "    print('Parameters saved.')"
   ]
  },
  {
   "cell_type": "code",
   "execution_count": 15,
   "id": "5a945891",
   "metadata": {},
   "outputs": [],
   "source": [
    "par.sigma = whiten.GetSigma()"
   ]
  },
  {
   "cell_type": "code",
   "execution_count": 16,
   "id": "08ca788c",
   "metadata": {},
   "outputs": [
    {
     "data": {
      "text/plain": [
       "1.26693e-21"
      ]
     },
     "execution_count": 16,
     "metadata": {},
     "output_type": "execute_result"
    }
   ],
   "source": [
    "par.sigma"
   ]
  },
  {
   "cell_type": "code",
   "execution_count": 40,
   "id": "7419bea2",
   "metadata": {},
   "outputs": [],
   "source": [
    "data_sample = SV()\n",
    "datads_sample = SV()\n",
    "dataw_sample = SV()\n",
    "\n",
    "stream_sample = FrameIChannel(par.file, par.channel, 200.0, par.segments[0]+200.0) \n",
    "stream_sample.GetData(data_sample)\n",
    "\n",
    "ds = BandPassDownSampling(par,estimation=True)\n",
    "datads_sample=ds.Process(data_sample)\n",
    "\n",
    "whiten.Process(datads_sample, dataw_sample)"
   ]
  },
  {
   "cell_type": "code",
   "execution_count": 47,
   "id": "5180c7a1",
   "metadata": {},
   "outputs": [
    {
     "data": {
      "image/png": "[encoded data removed]",
      "text/plain": [
       "<Figure size 640x480 with 1 Axes>"
      ]
     },
     "metadata": {},
     "output_type": "display_data"
    }
   ],
   "source": [
    "plot_SV(dataw_sample, colour='r'), plt.xlabel('gps time'), plt.ylabel('h strain whitened');\n",
    "#plt.xlim(par.segments[0]+200+2,par.segments[0]+400), plt.ylim(-1e-19, 1e-19);\n",
    "plt.xlim(par.segments[0]+250+3,par.segments[0]+254), plt.ylim(-1e-19, 1e-19);"
   ]
  },
  {
   "cell_type": "markdown",
   "id": "dcd613a4",
   "metadata": {},
   "source": [
    "## Full WDF"
   ]
  },
  {
   "cell_type": "markdown",
   "id": "85ee393c",
   "metadata": {},
   "source": [
    "We have shown how to whiten data with WDF. Now we show how to carry out an analysis with WDF, consisting of a number of steps: 1) **DOWNSAMPLING**, **WHITENING**, **WAVELET TRANSFORM & TRIGGER EXTRACTION**. We will have to redefine the sequence views for the raw and whitened data. "
   ]
  },
  {
   "cell_type": "code",
   "execution_count": 48,
   "id": "d4d1988f",
   "metadata": {},
   "outputs": [],
   "source": [
    "double_white = False"
   ]
  },
  {
   "cell_type": "code",
   "execution_count": 59,
   "id": "26124d47",
   "metadata": {},
   "outputs": [],
   "source": [
    "par.gps = par.segments[0]              # here I choose a start gps to run the DS, Whitening and Wavelet\n",
    "par.gpsEnd = par.segments[0]+100       # here I choose the end time"
   ]
  },
  {
   "cell_type": "code",
   "execution_count": 60,
   "id": "3eda59e5",
   "metadata": {},
   "outputs": [
    {
     "name": "stderr",
     "output_type": "stream",
     "text": [
      "\u001b[32m2024-02-26 17:25:48\u001b[0m \u001b[35mservergpu1.virgo.infn.it\u001b[0m \u001b[34mroot[13467]\u001b[0m \u001b[1;30mINFO\u001b[0m Starting Detection Loop\n"
     ]
    }
   ],
   "source": [
    "segment_length = par.gpsEnd-par.gps    # I derive the duration of the segment to analyse\n",
    "par.Ncoeff = par.window                # number of wavelet coefficients in the transform\n",
    "\n",
    "savetrigger = SingleEventPrintTriggers(par, fullPrint=3)     # Define an object to print individual triggers internally\n",
    "parameterestimation = ParameterEstimation(par)             # object to run parameter estimation (gps, duration, f, SNR)\n",
    "parameterestimation.register(savetrigger)        # registers to run PE on triggers from SingleEventPrintTriggers\n",
    "WDF = wdf(par)                         # define the WDF object\n",
    "WDF.register(parameterestimation)      # register to the PE object\n",
    "    \n",
    "streaming = FrameIChannel(par.file, par.channel, par.len, par.segments[0])\n",
    "data = SV()\n",
    "data_ds = SV()\n",
    "dataw = SV()\n",
    "count = 0\n",
    "\n",
    "logging.info('Starting Detection Loop')"
   ]
  },
  {
   "cell_type": "code",
   "execution_count": 61,
   "id": "fbe7528c",
   "metadata": {},
   "outputs": [
    {
     "name": "stdout",
     "output_type": "stream",
     "text": [
      "loop 1387470702.0\n",
      "loop 1387470712.0\n",
      "loop 1387470722.0\n",
      "loop 1387470732.0\n",
      "loop 1387470742.0\n",
      "loop 1387470752.0\n",
      "loop 1387470762.0\n",
      "loop 1387470772.0\n",
      "loop 1387470782.0\n",
      "loop 1387470792.0\n",
      "loop 1387470802.0\n",
      "loop 1387470812.0\n"
     ]
    }
   ],
   "source": [
    "while data.GetStart() <=par.gpsEnd:\n",
    "    streaming.GetData(data)\n",
    "    data_ds=ds.Process(data)\n",
    "    if double_white:\n",
    "        DW.Process(data_ds, dataw)\n",
    "    else:\n",
    "        whiten.Process(data_ds, dataw)\n",
    " #   if count%10==0:\n",
    "    print('loop ' +str(data.GetStart()))\n",
    "    WDF.SetData(dataw)\n",
    "    WDF.Process()\n",
    "    count+=1"
   ]
  },
  {
   "cell_type": "markdown",
   "id": "4b3b8e46",
   "metadata": {},
   "source": [
    "# Check the produced triggers"
   ]
  },
  {
   "cell_type": "code",
   "execution_count": 65,
   "id": "64ebbce3",
   "metadata": {},
   "outputs": [
    {
     "name": "stdout",
     "output_type": "stream",
     "text": [
      "total 80\r\n",
      "drwxrwxr-x. 3 iess roma2  4096 Feb 26 17:26 \u001b[0m\u001b[01;34mnotebooks\u001b[0m/\r\n",
      "-rw-rw-r--. 1 iess roma2 49690 Feb 26 17:25 resultsWDFTriggers-V1-Hrec_hoft_16384Hz-GPS1387470702-AR500-Win512-Ov128-EnWDF0.3.csv\r\n",
      "drwxrwxrwx. 2 iess roma2  4096 Feb 26 16:38 \u001b[34;42mresults\u001b[0m/\r\n",
      "drwxrwxr-x. 4 iess roma2  4096 Feb 16 15:27 \u001b[01;34mscripts\u001b[0m/\r\n",
      "-rw-rw-r--. 1 iess roma2     0 Jan 24 15:18 __init__.py\r\n",
      "-rw-rw-r--. 1 iess roma2   107 Jan 22 16:36 README.md\r\n",
      "-rw-rw-r--. 1 iess roma2  1065 Jan 22 16:36 LICENSE\r\n",
      "-rw-rw-r--. 1 iess roma2   889 Jan 22 16:36 Dec23_ER-DQstudies_seg.csv\r\n"
     ]
    }
   ],
   "source": [
    "ls -lt /users/iess/GlitchClassification/"
   ]
  },
  {
   "cell_type": "code",
   "execution_count": 73,
   "id": "586b9b6a",
   "metadata": {},
   "outputs": [],
   "source": [
    "pd.set_option('display.float_format', lambda x: '%.4f' % x)"
   ]
  },
  {
   "cell_type": "code",
   "execution_count": 74,
   "id": "6be7d91d",
   "metadata": {},
   "outputs": [],
   "source": [
    "df = pd.read_csv('/users/iess/GlitchClassification/resultsWDFTriggers-V1-Hrec_hoft_16384Hz-GPS1387470702-AR500-Win512-Ov128-EnWDF0.3.csv')"
   ]
  },
  {
   "cell_type": "code",
   "execution_count": 75,
   "id": "f355aa57",
   "metadata": {},
   "outputs": [
    {
     "data": {
      "text/html": [
       "<div>\n",
       "<style scoped>\n",
       "    .dataframe tbody tr th:only-of-type {\n",
       "        vertical-align: middle;\n",
       "    }\n",
       "\n",
       "    .dataframe tbody tr th {\n",
       "        vertical-align: top;\n",
       "    }\n",
       "\n",
       "    .dataframe thead th {\n",
       "        text-align: right;\n",
       "    }\n",
       "</style>\n",
       "<table border=\"1\" class=\"dataframe\">\n",
       "  <thead>\n",
       "    <tr style=\"text-align: right;\">\n",
       "      <th></th>\n",
       "      <th>gps</th>\n",
       "      <th>gpsPeak</th>\n",
       "      <th>duration</th>\n",
       "      <th>EnWDF</th>\n",
       "      <th>snrMean</th>\n",
       "      <th>snrPeak</th>\n",
       "      <th>freqMin</th>\n",
       "      <th>freqMean</th>\n",
       "      <th>freqMax</th>\n",
       "      <th>freqPeak</th>\n",
       "      <th>...</th>\n",
       "      <th>rw502</th>\n",
       "      <th>rw503</th>\n",
       "      <th>rw504</th>\n",
       "      <th>rw505</th>\n",
       "      <th>rw506</th>\n",
       "      <th>rw507</th>\n",
       "      <th>rw508</th>\n",
       "      <th>rw509</th>\n",
       "      <th>rw510</th>\n",
       "      <th>rw511</th>\n",
       "    </tr>\n",
       "  </thead>\n",
       "  <tbody>\n",
       "    <tr>\n",
       "      <th>0</th>\n",
       "      <td>1387470701.7500</td>\n",
       "      <td>1387470701.9995</td>\n",
       "      <td>0.0005</td>\n",
       "      <td>2.6356</td>\n",
       "      <td>1.8629</td>\n",
       "      <td>37.8160</td>\n",
       "      <td>924.0000</td>\n",
       "      <td>974.0000</td>\n",
       "      <td>1024.0000</td>\n",
       "      <td>1024.0000</td>\n",
       "      <td>...</td>\n",
       "      <td>-0.0000</td>\n",
       "      <td>-0.0000</td>\n",
       "      <td>-0.0000</td>\n",
       "      <td>-0.0000</td>\n",
       "      <td>-0.0000</td>\n",
       "      <td>-0.0000</td>\n",
       "      <td>-0.0000</td>\n",
       "      <td>0.0000</td>\n",
       "      <td>-0.0000</td>\n",
       "      <td>0.0000</td>\n",
       "    </tr>\n",
       "    <tr>\n",
       "      <th>1</th>\n",
       "      <td>1387470701.9375</td>\n",
       "      <td>1387470702.0005</td>\n",
       "      <td>0.0938</td>\n",
       "      <td>19.0724</td>\n",
       "      <td>54.0637</td>\n",
       "      <td>566.5365</td>\n",
       "      <td>44.0000</td>\n",
       "      <td>115.2308</td>\n",
       "      <td>204.0000</td>\n",
       "      <td>84.0000</td>\n",
       "      <td>...</td>\n",
       "      <td>-0.0000</td>\n",
       "      <td>-0.0000</td>\n",
       "      <td>-0.0000</td>\n",
       "      <td>-0.0000</td>\n",
       "      <td>0.0000</td>\n",
       "      <td>0.0000</td>\n",
       "      <td>0.0000</td>\n",
       "      <td>0.0000</td>\n",
       "      <td>0.0000</td>\n",
       "      <td>0.0000</td>\n",
       "    </tr>\n",
       "    <tr>\n",
       "      <th>2</th>\n",
       "      <td>1387470702.1250</td>\n",
       "      <td>1387470702.1938</td>\n",
       "      <td>0.1187</td>\n",
       "      <td>7.5079</td>\n",
       "      <td>9.5607</td>\n",
       "      <td>42.6917</td>\n",
       "      <td>40.0000</td>\n",
       "      <td>116.9231</td>\n",
       "      <td>240.0000</td>\n",
       "      <td>44.0000</td>\n",
       "      <td>...</td>\n",
       "      <td>0.0000</td>\n",
       "      <td>0.0000</td>\n",
       "      <td>0.0000</td>\n",
       "      <td>0.0000</td>\n",
       "      <td>0.0000</td>\n",
       "      <td>0.0000</td>\n",
       "      <td>0.0000</td>\n",
       "      <td>0.0000</td>\n",
       "      <td>-0.0000</td>\n",
       "      <td>-0.0000</td>\n",
       "    </tr>\n",
       "  </tbody>\n",
       "</table>\n",
       "<p>3 rows × 1035 columns</p>\n",
       "</div>"
      ],
      "text/plain": [
       "              gps         gpsPeak  duration   EnWDF  snrMean  snrPeak  \\\n",
       "0 1387470701.7500 1387470701.9995    0.0005  2.6356   1.8629  37.8160   \n",
       "1 1387470701.9375 1387470702.0005    0.0938 19.0724  54.0637 566.5365   \n",
       "2 1387470702.1250 1387470702.1938    0.1187  7.5079   9.5607  42.6917   \n",
       "\n",
       "   freqMin  freqMean   freqMax  freqPeak  ...   rw502   rw503   rw504   rw505  \\\n",
       "0 924.0000  974.0000 1024.0000 1024.0000  ... -0.0000 -0.0000 -0.0000 -0.0000   \n",
       "1  44.0000  115.2308  204.0000   84.0000  ... -0.0000 -0.0000 -0.0000 -0.0000   \n",
       "2  40.0000  116.9231  240.0000   44.0000  ...  0.0000  0.0000  0.0000  0.0000   \n",
       "\n",
       "    rw506   rw507   rw508  rw509   rw510   rw511  \n",
       "0 -0.0000 -0.0000 -0.0000 0.0000 -0.0000  0.0000  \n",
       "1  0.0000  0.0000  0.0000 0.0000  0.0000  0.0000  \n",
       "2  0.0000  0.0000  0.0000 0.0000 -0.0000 -0.0000  \n",
       "\n",
       "[3 rows x 1035 columns]"
      ]
     },
     "execution_count": 75,
     "metadata": {},
     "output_type": "execute_result"
    }
   ],
   "source": [
    "df"
   ]
  },
  {
   "cell_type": "code",
   "execution_count": 80,
   "id": "2140a23b",
   "metadata": {},
   "outputs": [
    {
     "data": {
      "text/plain": [
       "Index(['rw502', 'rw503', 'rw504', 'rw505', 'rw506', 'rw507', 'rw508', 'rw509',\n",
       "       'rw510', 'rw511'],\n",
       "      dtype='object')"
      ]
     },
     "execution_count": 80,
     "metadata": {},
     "output_type": "execute_result"
    }
   ],
   "source": [
    "df.columns[-10:]"
   ]
  },
  {
   "cell_type": "code",
   "execution_count": null,
   "id": "f8917127",
   "metadata": {},
   "outputs": [],
   "source": []
  }
 ],
 "metadata": {
  "kernelspec": {
   "display_name": "Python 3 (ipykernel)",
   "language": "python",
   "name": "python3"
  },
  "language_info": {
   "codemirror_mode": {
    "name": "ipython",
    "version": 3
   },
   "file_extension": ".py",
   "mimetype": "text/x-python",
   "name": "python",
   "nbconvert_exporter": "python",
   "pygments_lexer": "ipython3",
   "version": "3.11.2"
  }
 },
 "nbformat": 4,
 "nbformat_minor": 5
}
