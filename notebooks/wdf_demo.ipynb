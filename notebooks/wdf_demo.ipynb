{
 "cells": [
  {
   "cell_type": "markdown",
   "id": "7dd434cd",
   "metadata": {},
   "source": [
    "# A short demo on the Wavelet Detection Filter"
   ]
  },
  {
   "cell_type": "markdown",
   "id": "dabae8cf",
   "metadata": {},
   "source": [
    "We present here a brief example of usage of WDF for gravitational wave data analysis. WDF uses the pytsa (a python embedding for p4TSA) library for data preprocessing and searches for burst signals with a wavelet based method. Let's import some useful libraries:"
   ]
  },
  {
   "cell_type": "code",
   "execution_count": 1,
   "id": "ed56245d",
   "metadata": {},
   "outputs": [],
   "source": [
    "import time\n",
    "import os\n",
    "import sys\n",
    "from tempfile import NamedTemporaryFile\n",
    "from pytsa.tsa import *\n",
    "from pytsa.tsa import SeqView_double_t as SV\n",
    "from pytsa.tsa import WaveletThreshold\n",
    "from wdf.config.Parameters import *\n",
    "from wdf.processes.wdfUnitDSWorker import * \n",
    "from wdf.observers.ParameterEstimationObserver import ParameterEstimation\n",
    "from wdf.observers.SingleEventPrintFileObserver import SingleEventPrintTriggers\n",
    "from wdf.processes.BandPassDownSampling import BandPassDownSampling\n",
    "from wdf.processes.wdf import wdf\n",
    "from wdf.processes.Whitening import Whitening \n",
    "from wdf.processes.DWhitening import DWhitening\n",
    "\n",
    "\n",
    "from glob import glob\n",
    "import json\n",
    "import logging\n",
    "import coloredlogs\n",
    "import numpy as np\n",
    "import matplotlib.pyplot as plt\n",
    "coloredlogs.install(isatty=True)\n",
    "import matplotlib\n",
    "matplotlib.rcParams['agg.path.chunksize']=10000\n",
    "\n",
    "%matplotlib inline"
   ]
  },
  {
   "cell_type": "code",
   "execution_count": 2,
   "id": "b65156b4",
   "metadata": {},
   "outputs": [
    {
     "data": {
      "text/plain": [
       "'/users/iess/GlitchClassification/notebooks'"
      ]
     },
     "execution_count": 2,
     "metadata": {},
     "output_type": "execute_result"
    }
   ],
   "source": [
    "os.getcwd()"
   ]
  },
  {
   "cell_type": "markdown",
   "id": "c7f70ce3",
   "metadata": {},
   "source": [
    "We define a function to plot the data contained in the SequenceView Objects later on."
   ]
  },
  {
   "cell_type": "code",
   "execution_count": 3,
   "id": "f1773a52",
   "metadata": {},
   "outputs": [],
   "source": [
    "def plot_SV(data_sv, colour='b'):\n",
    "    x = np.zeros(data_sv.GetSize())\n",
    "    y = np.zeros(data_sv.GetSize())\n",
    "    for i in range(data_sv.GetSize()):\n",
    "        x[i] = data_sv.GetX(i)\n",
    "        y[i] = data_sv.GetY(0,i)\n",
    "    plt.plot(x,y, colour), plt.grid()\n",
    "    return x, y"
   ]
  },
  {
   "cell_type": "markdown",
   "id": "a16b157a",
   "metadata": {},
   "source": [
    "Importing script from my project repository:"
   ]
  },
  {
   "cell_type": "code",
   "execution_count": 4,
   "id": "79d103f6",
   "metadata": {},
   "outputs": [],
   "source": [
    "sys.path.append(\"../scripts\")\n",
    "import segments\n",
    "import get_git_repo_root"
   ]
  },
  {
   "cell_type": "code",
   "execution_count": 5,
   "id": "ac957774",
   "metadata": {},
   "outputs": [
    {
     "data": {
      "text/plain": [
       "[[1387513848.0, 1387609426.0]]"
      ]
     },
     "execution_count": 5,
     "metadata": {},
     "output_type": "execute_result"
    }
   ],
   "source": [
    "segments.get_list(tmin=1387513845, tmax=1387611370)       # values suggested by Francesco"
   ]
  },
  {
   "cell_type": "markdown",
   "id": "6ec840cc",
   "metadata": {},
   "source": [
    "When launching WDF, we supply a number of parameters and configuration options. These parameters are loaded into WDF from a dictionary in a JSON configuration file."
   ]
  },
  {
   "cell_type": "code",
   "execution_count": 6,
   "id": "b0483f20",
   "metadata": {},
   "outputs": [
    {
     "name": "stdout",
     "output_type": "stream",
     "text": [
      "/users/iess/GlitchClassification/results/test_configuration.json\n"
     ]
    }
   ],
   "source": [
    "results_dir = os.path.join(get_git_repo_root.repo_root(), 'results')\n",
    "ffl_list = '/virgoData/ffl/raw.ffl'\n",
    "\n",
    "configuration = {\n",
    "   \"sampling\": 16384,\n",
    "   \"window\": 512,                     # 512 --> wavelet window after resampling is 0.25 seconds\n",
    "   \"overlap\": 128,                    # overlap between adjacent wavelet windows\n",
    "   \"threshold\": 0.3,                  # stay between 0.2 and 0.5\n",
    "   \"len\": 100.0,                       # length of data loaded in WDF loop at each iteration\n",
    "   \"ResamplingFactor\":8,              # 16kHz---> 2kHz \n",
    "   \"run\": \"run\",                    # Name of the run, don't change\n",
    "   'ID': 'test',\n",
    "   'dir': results_dir,\n",
    "   'file': ffl_list,            # can be the .gwf file or an ffl list of .gwf files \n",
    "   'channel': 'V1:Hrec_hoft_16384Hz',   # channel of data, gravitational wave strain from Virgo at 16kHz\n",
    "   \"outdir\": results_dir,    # output directory for whitened data, keep same as dir\n",
    "   \"ARorder\": 500, #edited from 1000         # Order of the autoregressive model, can set lower for synthetic noise\n",
    "   \"learn\": 100, #edited from 100                # number of seconds at beginning of a segment, used to compute AR parameters\n",
    "                                # check scipy.signal.welch for the welch spectrogram\n",
    "   'preWhite':3,                    \n",
    "#   'nproc': 4,\n",
    "   'gps': 0.0,                 # if we want to provide gps to start analysis\n",
    "    'segments': segments.get_list()[0]      # list of segments to analyze\n",
    "    }                \n",
    " \n",
    "filejson = os.path.join(results_dir,\"test_configuration.json\")\n",
    "file_json = open(filejson, \"w+\")       \n",
    "json.dump(configuration, file_json)\n",
    "file_json.close()\n",
    "\n",
    "print(filejson)"
   ]
  },
  {
   "cell_type": "code",
   "execution_count": 7,
   "id": "f5177a42",
   "metadata": {},
   "outputs": [
    {
     "name": "stdout",
     "output_type": "stream",
     "text": [
      "{   'ARorder': 500,\n",
      "    'ID': 'test',\n",
      "    'ResamplingFactor': 8,\n",
      "    'channel': 'V1:Hrec_hoft_16384Hz',\n",
      "    'dir': '/users/iess/GlitchClassification/results',\n",
      "    'file': '/virgoData/ffl/raw.ffl',\n",
      "    'gps': 0.0,\n",
      "    'learn': 100,\n",
      "    'len': 10.0,\n",
      "    'outdir': '/users/iess/GlitchClassification/results',\n",
      "    'overlap': 128,\n",
      "    'preWhite': 3,\n",
      "    'run': 'run',\n",
      "    'sampling': 16384,\n",
      "    'segments': [1387470702.0, 1387497578.0],\n",
      "    'threshold': 0.3,\n",
      "    'window': 512}\n"
     ]
    }
   ],
   "source": [
    "par = Parameters()\n",
    "par.load(filejson)      \n",
    "par.print()"
   ]
  },
  {
   "cell_type": "markdown",
   "id": "d0f630de",
   "metadata": {},
   "source": [
    "## WDF downsampling"
   ]
  },
  {
   "cell_type": "markdown",
   "id": "7c038ced",
   "metadata": {},
   "source": [
    "Before running WDF whitening procedure, we have to downsample the data to the desired frequency. Since our `par.ResamplingFactor = 8`, our initial frequency of 16 kHz shall be downsampled to 2 kHz."
   ]
  },
  {
   "cell_type": "code",
   "execution_count": 8,
   "id": "0959617f",
   "metadata": {},
   "outputs": [],
   "source": [
    "par.resampling = int(par.sampling/par.ResamplingFactor)"
   ]
  },
  {
   "cell_type": "code",
   "execution_count": 9,
   "id": "d7481834",
   "metadata": {},
   "outputs": [],
   "source": [
    "par.ARfile = os.path.join(results_dir, \"ARcoeff-AR%s-fs%s-%s.txt\" % (\n",
    "                par.ARorder, par.resampling, par.channel))\n",
    "par.LVfile = os.path.join(results_dir, \"LVcoeff-AR%s-fs%s-%s.txt\" % (\n",
    "                par.ARorder, par.resampling, par.channel))"
   ]
  },
  {
   "cell_type": "code",
   "execution_count": 10,
   "id": "2ecda4f9",
   "metadata": {},
   "outputs": [],
   "source": [
    "gpsStart, gpsEnd = par.segments[0], par.segments[1]\n",
    "\n",
    "if gpsEnd - gpsStart >= par.learn + 100.0:\n",
    "    gpsE = gpsStart + 100.0\n",
    "else:\n",
    "    gpsE = gpsEnd - par.learn            \n",
    "\n",
    "strLearn = FrameIChannel(par.file, par.channel, par.learn, gpsE) \n",
    "Learn = SV()\n",
    "Learn_DS = SV()\n",
    "ds = BandPassDownSampling(par,estimation=True)\n",
    "strLearn.GetData(Learn)\n",
    "Learn_DS=ds.Process(Learn)\n",
    "    \n",
    "del Learn, strLearn"
   ]
  },
  {
   "cell_type": "markdown",
   "id": "56fe716e",
   "metadata": {},
   "source": [
    "Let us now plot the **DOWNSAMPLED STRAIN**, which we call *h*"
   ]
  },
  {
   "cell_type": "code",
   "execution_count": 11,
   "id": "cb99e733",
   "metadata": {},
   "outputs": [
    {
     "data": {
      "image/png": "[encoded data removed]",
      "text/plain": [
       "<Figure size 640x480 with 1 Axes>"
      ]
     },
     "metadata": {},
     "output_type": "display_data"
    }
   ],
   "source": [
    "plot_SV(Learn_DS), plt.xlabel('gps time'), plt.ylabel('h strain downsampled'), plt.xlim(par.segments[0]+0, par.segments[0]+100+par.learn);\n"
   ]
  },
  {
   "cell_type": "markdown",
   "id": "65cc9aca",
   "metadata": {},
   "source": [
    "## WDF whitening"
   ]
  },
  {
   "cell_type": "markdown",
   "id": "834d1ab0",
   "metadata": {},
   "source": [
    "We now show how to whiten data with WDF. To do so, we have to give the `par.ARorder` parameter. Note that we use the downsampled SeqView object `Learn_DS` to evaluate the whitening parameters."
   ]
  },
  {
   "cell_type": "code",
   "execution_count": 12,
   "id": "bd0e1327",
   "metadata": {},
   "outputs": [],
   "source": [
    "from wdf.processes.Whitening import Whitening\n",
    "from wdf.processes.DWhitening import  DWhitening"
   ]
  },
  {
   "cell_type": "code",
   "execution_count": 13,
   "id": "2a8b6867",
   "metadata": {},
   "outputs": [],
   "source": [
    "whiten = Whitening(par.ARorder)"
   ]
  },
  {
   "cell_type": "code",
   "execution_count": 14,
   "id": "6a6db955",
   "metadata": {},
   "outputs": [
    {
     "name": "stdout",
     "output_type": "stream",
     "text": [
      "Parameters loaded from /users/iess/GlitchClassification/results/ARcoeff-AR500-fs2048-V1:Hrec_hoft_16384Hz.txt\n"
     ]
    }
   ],
   "source": [
    "if os.path.isfile(par.ARfile):\n",
    "    whiten.ParametersLoad(par.ARfile, par.LVfile)\n",
    "    print(f'Parameters loaded from {par.ARfile}')\n",
    "else:\n",
    "    whiten.ParametersEstimate(Learn_DS)\n",
    "    whiten.ParametersSave(par.ARfile, par.LVfile)\n",
    "    print('Parameters saved.')"
   ]
  },
  {
   "cell_type": "code",
   "execution_count": 15,
   "id": "5a945891",
   "metadata": {},
   "outputs": [],
   "source": [
    "par.sigma = whiten.GetSigma()"
   ]
  },
  {
   "cell_type": "code",
   "execution_count": 16,
   "id": "62f0067d",
   "metadata": {},
   "outputs": [
    {
     "data": {
      "text/plain": [
       "1.26693e-21"
      ]
     },
     "execution_count": 16,
     "metadata": {},
     "output_type": "execute_result"
    }
   ],
   "source": [
    "par.sigma"
   ]
  },
  {
   "cell_type": "code",
   "execution_count": 16,
   "id": "d1dea44f",
   "metadata": {},
   "outputs": [],
   "source": [
    "data_sample = SV()\n",
    "datads_sample = SV()\n",
    "dataw_sample = SV()\n",
    "\n",
    "stream_sample = FrameIChannel(par.file, par.channel, 200.0, par.segments[0]+200.0) \n",
    "stream_sample.GetData(data_sample)\n",
    "\n",
    "ds = BandPassDownSampling(par,estimation=True)\n",
    "datads_sample=ds.Process(data_sample)\n",
    "\n",
    "whiten.Process(datads_sample, dataw_sample)"
   ]
  },
  {
   "cell_type": "code",
   "execution_count": 17,
   "id": "5180c7a1",
   "metadata": {},
   "outputs": [
    {
     "data": {
      "image/png": "[encoded data removed]",
      "text/plain": [
       "<Figure size 640x480 with 1 Axes>"
      ]
     },
     "metadata": {},
     "output_type": "display_data"
    }
   ],
   "source": [
    "plot_SV(dataw_sample, colour='r'), plt.xlabel('gps time'), plt.ylabel('h strain whitened');\n",
    "plt.xlim(par.segments[0]+200+2,par.segments[0]+400), plt.ylim(-1e-19, 1e-19);"
   ]
  },
  {
   "cell_type": "markdown",
   "id": "dcd613a4",
   "metadata": {},
   "source": [
    "## Full WDF"
   ]
  },
  {
   "cell_type": "markdown",
   "id": "85ee393c",
   "metadata": {},
   "source": [
    "We have shown how to whiten data with WDF. Now we show how to carry out an analysis with WDF, consisting of a number of steps: 1) **DOWNSAMPLING**, **WHITENING**, **WAVELET TRANSFORM & TRIGGER EXTRACTION**. We will have to redefine the sequence views for the raw and whitened data. "
   ]
  },
  {
   "cell_type": "code",
   "execution_count": 17,
   "id": "d4d1988f",
   "metadata": {},
   "outputs": [],
   "source": [
    "double_white = False"
   ]
  },
  {
   "cell_type": "code",
   "execution_count": 18,
   "id": "374f6688",
   "metadata": {},
   "outputs": [],
   "source": [
    "par.gps = par.segments[0]\n",
    "par.gpsEnd = par.segments[1]"
   ]
  },
  {
   "cell_type": "code",
   "execution_count": 19,
   "id": "f0097808",
   "metadata": {},
   "outputs": [
    {
     "name": "stderr",
     "output_type": "stream",
     "text": [
      "\u001b[32m2024-02-26 16:16:05\u001b[0m \u001b[35mservergpu1.virgo.infn.it\u001b[0m \u001b[34mroot[12866]\u001b[0m \u001b[1;30mINFO\u001b[0m Starting Detection Loop\n"
     ]
    }
   ],
   "source": [
    "segment_length = par.segments[1]-par.segments[0]\n",
    "par.Ncoeff = par.window\n",
    "\n",
    "savetrigger = SingleEventPrintTriggers(par, fullPrint=3)\n",
    "parameterestimation = ParameterEstimation(par)\n",
    "parameterestimation.register(savetrigger)\n",
    "WDF = wdf(par)\n",
    "WDF.register(parameterestimation)\n",
    "    \n",
    "streaming = FrameIChannel(par.file, par.channel, par.len, par.segments[0])\n",
    "data = SV()\n",
    "data_ds = SV()\n",
    "dataw = SV()\n",
    "count = 0\n",
    "\n",
    "logging.info('Starting Detection Loop')"
   ]
  },
  {
   "cell_type": "code",
   "execution_count": 20,
   "id": "fbe7528c",
   "metadata": {},
   "outputs": [
    {
     "name": "stdout",
     "output_type": "stream",
     "text": [
      "loop 1387470702.0\n"
     ]
    },
    {
     "ename": "KeyboardInterrupt",
     "evalue": "",
     "output_type": "error",
     "traceback": [
      "\u001b[0;31m---------------------------------------------------------------------------\u001b[0m",
      "\u001b[0;31mKeyboardInterrupt\u001b[0m                         Traceback (most recent call last)",
      "Cell \u001b[0;32mIn[20], line 2\u001b[0m\n\u001b[1;32m      1\u001b[0m \u001b[38;5;28;01mwhile\u001b[39;00m data\u001b[38;5;241m.\u001b[39mGetStart() \u001b[38;5;241m<\u001b[39m\u001b[38;5;241m=\u001b[39mpar\u001b[38;5;241m.\u001b[39mgpsEnd:\n\u001b[0;32m----> 2\u001b[0m     \u001b[43mstreaming\u001b[49m\u001b[38;5;241;43m.\u001b[39;49m\u001b[43mGetData\u001b[49m\u001b[43m(\u001b[49m\u001b[43mdata\u001b[49m\u001b[43m)\u001b[49m\n\u001b[1;32m      3\u001b[0m     data_ds\u001b[38;5;241m=\u001b[39mds\u001b[38;5;241m.\u001b[39mProcess(data)\n\u001b[1;32m      4\u001b[0m     \u001b[38;5;28;01mif\u001b[39;00m double_white:\n",
      "\u001b[0;31mKeyboardInterrupt\u001b[0m: "
     ]
    }
   ],
   "source": [
    "while data.GetStart() <=par.gpsEnd:\n",
    "    streaming.GetData(data)\n",
    "    data_ds=ds.Process(data)\n",
    "    if double_white:\n",
    "        DW.Process(data_ds, dataw)\n",
    "    else:\n",
    "        whiten.Process(data_ds, dataw)\n",
    "    if count%10==0:\n",
    "        print('loop ' +str(data.GetStart()))\n",
    "    WDF.SetData(dataw)\n",
    "    WDF.Process()\n",
    "    count+=1"
   ]
  },
  {
   "cell_type": "code",
   "execution_count": null,
   "id": "8b713755",
   "metadata": {},
   "outputs": [],
   "source": [
    "BandPassDownSampling??"
   ]
  },
  {
   "cell_type": "code",
   "execution_count": null,
   "id": "465d664a",
   "metadata": {},
   "outputs": [],
   "source": []
  }
 ],
 "metadata": {
  "kernelspec": {
   "display_name": "Python 3 (ipykernel)",
   "language": "python",
   "name": "python3"
  },
  "language_info": {
   "codemirror_mode": {
    "name": "ipython",
    "version": 3
   },
   "file_extension": ".py",
   "mimetype": "text/x-python",
   "name": "python",
   "nbconvert_exporter": "python",
   "pygments_lexer": "ipython3",
   "version": "3.11.2"
  }
 },
 "nbformat": 4,
 "nbformat_minor": 5
}
