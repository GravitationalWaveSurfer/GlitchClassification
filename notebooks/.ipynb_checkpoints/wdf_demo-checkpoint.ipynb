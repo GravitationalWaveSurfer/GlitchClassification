{
 "cells": [
  {
   "cell_type": "markdown",
   "id": "21b647e7",
   "metadata": {},
   "source": [
    "# A short demo on the Wavelet Detection Filter"
   ]
  },
  {
   "cell_type": "markdown",
   "id": "86402c20",
   "metadata": {},
   "source": [
    "We present here a brief example of usage of WDF for gravitational wave data analysis. WDF uses the pytsa (a python embedding for p4TSA) library for data preprocessing and searches for burst signals with a wavelet based method. Let's import some useful libraries:"
   ]
  },
  {
   "cell_type": "code",
   "execution_count": 1,
   "id": "d9832c99",
   "metadata": {},
   "outputs": [],
   "source": [
    "import time\n",
    "import os\n",
    "import sys\n",
    "from tempfile import NamedTemporaryFile\n",
    "from pytsa.tsa import *\n",
    "from pytsa.tsa import SeqView_double_t as SV\n",
    "from wdf.config.Parameters import *\n",
    "from wdf.processes.wdfUnitDSWorker import * \n",
    "from glob import glob\n",
    "import json\n",
    "import logging\n",
    "import coloredlogs\n",
    "coloredlogs.install(isatty=True)"
   ]
  },
  {
   "cell_type": "code",
   "execution_count": 2,
   "id": "f73c8b83",
   "metadata": {},
   "outputs": [
    {
     "data": {
      "text/plain": [
       "'/users/iess/GlitchClassification/notebooks'"
      ]
     },
     "execution_count": 2,
     "metadata": {},
     "output_type": "execute_result"
    }
   ],
   "source": [
    "os.getcwd()"
   ]
  },
  {
   "cell_type": "code",
   "execution_count": 6,
   "id": "f1570abd",
   "metadata": {},
   "outputs": [],
   "source": [
    "sys.path.append(\"../scripts\")\n",
    "import segments\n",
    "import get_git_repo_root"
   ]
  },
  {
   "cell_type": "code",
   "execution_count": 4,
   "id": "66b0818f",
   "metadata": {},
   "outputs": [
    {
     "name": "stdout",
     "output_type": "stream",
     "text": [
      "/users/iess/GlitchClassification\n"
     ]
    },
    {
     "data": {
      "text/plain": [
       "[[1387467863.0, 1387467880.0],\n",
       " [1387467881.0, 1387468287.0],\n",
       " [1387470702.0, 1387497578.0],\n",
       " [1387500782.0, 1387511647.0],\n",
       " [1387513848.0, 1387609426.0],\n",
       " [1387622727.0, 1387637112.0],\n",
       " [1387642884.0, 1387678155.0],\n",
       " [1387682595.0, 1387696797.0],\n",
       " [1387697813.0, 1387706314.0],\n",
       " [1387721669.0, 1387725556.0],\n",
       " [1387725557.0, 1387743818.0],\n",
       " [1387745979.0, 1387783246.0],\n",
       " [1387783251.0, 1387783261.0],\n",
       " [1387783578.0, 1387787623.0],\n",
       " [1387813009.0, 1387868651.0],\n",
       " [1387869096.0, 1387876632.0],\n",
       " [1387906766.0, 1387931885.0],\n",
       " [1387940620.0, 1387954830.0],\n",
       " [1387981273.0, 1388004383.0],\n",
       " [1388006803.0, 1388039590.0],\n",
       " [1388042024.0, 1388043028.0],\n",
       " [1388050432.0, 1388062029.0],\n",
       " [1388062271.0, 1388063982.0],\n",
       " [1388069932.0, 1388129020.0]]"
      ]
     },
     "execution_count": 4,
     "metadata": {},
     "output_type": "execute_result"
    }
   ],
   "source": [
    "segments.get_list()"
   ]
  },
  {
   "cell_type": "markdown",
   "id": "1410377d",
   "metadata": {},
   "source": [
    "When launching WDF, we supply a number of parameters and configuration options. These parameters are loaded into WDF from a dictionary in a JSON configuration file."
   ]
  },
  {
   "cell_type": "code",
   "execution_count": 3,
   "id": "4027476a",
   "metadata": {},
   "outputs": [
    {
     "name": "stdout",
     "output_type": "stream",
     "text": [
      "/users/iess/GlitchClassification/notebooks/inputWDF_benchmark.json\n"
     ]
    }
   ],
   "source": [
    "results_dir = os.path.join(get_git_repo_root.repo_root(), 'results')\n",
    "\n",
    "configuration = {\n",
    "   \"window\": 512,\n",
    "   \"overlap\": 128,\n",
    "   \"threshold\": 0.,\n",
    "   \"len\": 10.0,\n",
    "   \"ResamplingFactor\":8,   \n",
    "   \"run\": \"Burst\",                    # Name of the run, don't change\n",
    "   'ID': 'test',\n",
    "   'dir': results_dir,\n",
    "  # 'file': tmpffl.name,\n",
    " #  'channel': inj_ch[ifo],\n",
    "#   \"outdir\": results_directory,    # output directory for whitened data, keep same as dir\n",
    "   \"ARorder\": 2000,             # Order of the autoregressive model, can set lower for synthetic noise\n",
    "   \"learn\": 300,                # number of seconds at beginning of a segment, used to compute AR parameters\n",
    "   'preWhite':3,                    \n",
    "#   'nproc': 4,\n",
    "#   'gps': 0.0,                 # if we want to provide gps to start analysis\n",
    "    'segments':\n",
    "    }                \n",
    " \n",
    "filejson = os.path.join(os.getcwd(),\"inputWDF_benchmark.json\")\n",
    "#file_json = open(filejson, \"w+\")\n",
    "#json.dump(configuration, file_json)\n",
    "#file_json.close()\n",
    "\n",
    "print(filejson)"
   ]
  },
  {
   "cell_type": "code",
   "execution_count": null,
   "id": "ed95b3e8",
   "metadata": {},
   "outputs": [],
   "source": []
  }
 ],
 "metadata": {
  "kernelspec": {
   "display_name": "Python 3 (ipykernel)",
   "language": "python",
   "name": "python3"
  },
  "language_info": {
   "codemirror_mode": {
    "name": "ipython",
    "version": 3
   },
   "file_extension": ".py",
   "mimetype": "text/x-python",
   "name": "python",
   "nbconvert_exporter": "python",
   "pygments_lexer": "ipython3",
   "version": "3.11.2"
  }
 },
 "nbformat": 4,
 "nbformat_minor": 5
}
