{
 "cells": [
  {
   "cell_type": "markdown",
   "id": "b3cf1b77",
   "metadata": {},
   "source": [
    "# Running WDF worker on segments"
   ]
  },
  {
   "cell_type": "markdown",
   "id": "bf0f524e",
   "metadata": {},
   "source": [
    "The purpose of this notebook is to show how to use the WDF class `wdfUnitDSWorker.py` to produce a trigger list for a .gwf dataset. The `wdfUnitDSWorker.py` class is initialized through its `__init__` method with a Parameters object that configures the processing workflow, including parameters for downsampling, whitening, wavelet analysis and file paths for input and output, along with a `fullPrint` input parameter to choose which information to keep in the .csv trigger list. The core method, `segmentProcess`, is where a data segment defined by start and end GPS times undergoes the analysis. Its composed of several processing steps:\n",
    "\n",
    "- Logging and directory setup\n",
    "- Bandpass downsampling\n",
    "- (Double) whitening\n",
    "- Wavelet based detection loop\n",
    "- Parameter estimation and event logging"
   ]
  },
  {
   "cell_type": "markdown",
   "id": "539eeb03",
   "metadata": {},
   "source": [
    "Let us see how to use this powerful tool. First let's import the required libraries:"
   ]
  },
  {
   "cell_type": "code",
   "execution_count": 25,
   "id": "e91e4f4a",
   "metadata": {},
   "outputs": [],
   "source": [
    "import os\n",
    "import sys\n",
    "import pandas as pd\n",
    "import numpy as np\n",
    "import matplotlib\n",
    "import matplotlib.pyplot as plt\n",
    "from glob import glob\n",
    "import json\n",
    "import logging\n",
    "import coloredlogs\n",
    "import multiprocessing as mp\n",
    "from datetime import datetime\n",
    "from tempfile import NamedTemporaryFile\n",
    "\n",
    "from wdf.processes.wdfUnitDSWorker import *\n",
    "from wdf.config.Parameters import Parameters\n",
    "\n",
    "sys.path.append(\"../scripts\")\n",
    "import segments\n",
    "import get_git_repo_root"
   ]
  },
  {
   "cell_type": "code",
   "execution_count": 15,
   "id": "3d865049",
   "metadata": {},
   "outputs": [],
   "source": [
    "coloredlogs.install(isatty=True)\n",
    "matplotlib.rcParams['agg.path.chunksize']=10000\n",
    "\n",
    "%matplotlib inline"
   ]
  },
  {
   "cell_type": "code",
   "execution_count": 18,
   "id": "1bff3e4c",
   "metadata": {},
   "outputs": [],
   "source": [
    "custom_segments = segments.get_list(tmin=1387513845, tmax=1387611370)\n",
    "\n",
    "results_dir = os.path.join(get_git_repo_root.repo_root(), 'results/')\n",
    "ffl_list = '/virgoData/ffl/raw.ffl'\n",
    "f_sampling = 16384.0"
   ]
  },
  {
   "cell_type": "code",
   "execution_count": 28,
   "id": "95dc2fe0",
   "metadata": {},
   "outputs": [
    {
     "name": "stderr",
     "output_type": "stream",
     "text": [
      "\u001b[32m2024-02-28 15:21:05\u001b[0m \u001b[35mservergpu1.virgo.infn.it\u001b[0m \u001b[34mroot[4602]\u001b[0m \u001b[1;30mINFO\u001b[0m Read parameters from JSON file...\n",
      "\u001b[32m2024-02-28 15:21:05\u001b[0m \u001b[35mservergpu1.virgo.infn.it\u001b[0m \u001b[34mroot[4602]\u001b[0m \u001b[1;30mINFO\u001b[0m Done.\n"
     ]
    }
   ],
   "source": [
    "# ---- Param (to be converted to a separate file)\n",
    "configuration = {\n",
    "        \"window\":1024,\n",
    "        \"overlap\":768,\n",
    "        \"threshold\": 0.3,\n",
    "        \"len\":10.0,\n",
    "        \"sampling\": f_sampling,\n",
    "        \"ResamplingFactor\":8, \n",
    "        \"itf\": \"V1\",                  # itf, run and ID are required by the wdfUnitDSWorker class\n",
    "        \"run\": \"detchar\",                    # Name of the run, don't change\n",
    "        'ID': 'demo',\n",
    "        'dir': results_dir,\n",
    "        'file': ffl_list,\n",
    "        'channel': 'V1:Hrec_hoft_16384Hz',\n",
    "        \"outdir\": results_dir,              # output directory for whitened data, keep same as dir\n",
    "        \"ARorder\": 1000,             # Order of the autoregressive model, can set lower for synthetic noise\n",
    "        \"learn\": 200,                # number of seconds at beginning of a segment, used to compute AR parameters\n",
    "        'preWhite':3,                    \n",
    "        'nproc': 4,\n",
    "      #  'gps': 1263751887.0, \n",
    "      #  'lastGPS': 1265760000.0,\n",
    "        'segments': custom_segments\n",
    "        }                \n",
    " \n",
    "# Create a temporary JSON file to store the parameter and load its contet into the par object\n",
    "tmpjson = NamedTemporaryFile()\n",
    "with open(tmpjson.name, 'w') as f:\n",
    "    json.dump(configuration, f)\n",
    "    f.close()\n",
    "\n",
    "    # ---- \n",
    "logging.info(\"Read parameters from JSON file...\")\n",
    "par = Parameters()\n",
    "\n",
    "try:\n",
    "    par.load(tmpjson.name)\n",
    "    logging.info(\"Done.\")\n",
    "except:\n",
    "    logging.error(\"Cannot read json file\")\n",
    "    # quit()  # <- Restore in script mode: print(quit); quit()"
   ]
  },
  {
   "cell_type": "markdown",
   "id": "092c9e76",
   "metadata": {},
   "source": [
    "## Split segments for parallel processing"
   ]
  },
  {
   "cell_type": "code",
   "execution_count": 29,
   "id": "4728c665",
   "metadata": {},
   "outputs": [
    {
     "name": "stderr",
     "output_type": "stream",
     "text": [
      "\u001b[32m2024-02-28 15:21:06\u001b[0m \u001b[35mservergpu1.virgo.infn.it\u001b[0m \u001b[34mroot[4602]\u001b[0m \u001b[1;30mINFO\u001b[0m Segments imported\n"
     ]
    },
    {
     "data": {
      "text/plain": [
       "[[1387513848.0, 1387517448.0],\n",
       " [1387517448.0, 1387521048.0],\n",
       " [1387521048.0, 1387524648.0],\n",
       " [1387524648.0, 1387528248.0],\n",
       " [1387528248.0, 1387531848.0],\n",
       " [1387531848.0, 1387535448.0],\n",
       " [1387535448.0, 1387539048.0],\n",
       " [1387539048.0, 1387542648.0],\n",
       " [1387542648.0, 1387546248.0],\n",
       " [1387546248.0, 1387549848.0],\n",
       " [1387549848.0, 1387553448.0],\n",
       " [1387553448.0, 1387557048.0],\n",
       " [1387557048.0, 1387560648.0],\n",
       " [1387560648.0, 1387564248.0],\n",
       " [1387564248.0, 1387567848.0],\n",
       " [1387567848.0, 1387571448.0],\n",
       " [1387571448.0, 1387575048.0],\n",
       " [1387575048.0, 1387578648.0],\n",
       " [1387578648.0, 1387582248.0],\n",
       " [1387582248.0, 1387585848.0],\n",
       " [1387585848.0, 1387589448.0],\n",
       " [1387589448.0, 1387593048.0],\n",
       " [1387593048.0, 1387596648.0],\n",
       " [1387596648.0, 1387600248.0],\n",
       " [1387600248.0, 1387603848.0],\n",
       " [1387603848.0, 1387607448.0],\n",
       " [1387607448.0, 1387609426.0]]"
      ]
     },
     "execution_count": 29,
     "metadata": {},
     "output_type": "execute_result"
    }
   ],
   "source": [
    "seglen = 3600         # If the segment is too long, split it to leverage multiple cpu cores\n",
    "segment_list = []\n",
    "\n",
    "for i, seg in enumerate(par.segments):\n",
    "        start = seg[0]\n",
    "        end = seg[1]\n",
    "        if seglen:\n",
    "            while (end - start) >= seglen*1.5:\n",
    "                segment_list.append([start,start+seglen])\n",
    "                start+=seglen\n",
    "        segment_list.append([start,end])\n",
    "\n",
    "par.segments = segment_list                   #\n",
    "logging.info(\"Segments imported\")\n",
    "\n",
    "par.segments"
   ]
  },
  {
   "cell_type": "markdown",
   "id": "fd260e73",
   "metadata": {},
   "source": [
    "## Run WDF worker"
   ]
  },
  {
   "cell_type": "code",
   "execution_count": null,
   "id": "0a714de1",
   "metadata": {},
   "outputs": [
    {
     "name": "stderr",
     "output_type": "stream",
     "text": [
      "\u001b[32m2024-02-28 15:21:07\u001b[0m \u001b[35mservergpu1.virgo.infn.it\u001b[0m \u001b[34mroot[6959]\u001b[0m \u001b[1;30mINFO\u001b[0m Analyzing segment: 1387521048.0-1387524648.0 for channel V1:Hrec_hoft_16384Hz downsampled at 2048Hz\n",
      "\u001b[32m2024-02-28 15:21:07\u001b[0m \u001b[35mservergpu1.virgo.infn.it\u001b[0m \u001b[34mroot[6958]\u001b[0m \u001b[1;30mINFO\u001b[0m Analyzing segment: 1387513848.0-1387517448.0 for channel V1:Hrec_hoft_16384Hz downsampled at 2048Hz\n",
      "\u001b[32m2024-02-28 15:21:07\u001b[0m \u001b[35mservergpu1.virgo.infn.it\u001b[0m \u001b[34mroot[6960]\u001b[0m \u001b[1;30mINFO\u001b[0m Analyzing segment: 1387528248.0-1387531848.0 for channel V1:Hrec_hoft_16384Hz downsampled at 2048Hz\n",
      "\u001b[32m2024-02-28 15:21:07\u001b[0m \u001b[35mservergpu1.virgo.infn.it\u001b[0m \u001b[34mroot[6961]\u001b[0m \u001b[1;30mINFO\u001b[0m Analyzing segment: 1387535448.0-1387539048.0 for channel V1:Hrec_hoft_16384Hz downsampled at 2048Hz\n",
      "\u001b[32m2024-02-28 15:21:07\u001b[0m \u001b[35mservergpu1.virgo.infn.it\u001b[0m \u001b[34mroot[6960]\u001b[0m \u001b[1;30mINFO\u001b[0m Start AR parameter estimation\n",
      "\u001b[32m2024-02-28 15:21:07\u001b[0m \u001b[35mservergpu1.virgo.infn.it\u001b[0m \u001b[34mroot[6958]\u001b[0m \u001b[1;30mINFO\u001b[0m Start AR parameter estimation\n",
      "\u001b[32m2024-02-28 15:21:07\u001b[0m \u001b[35mservergpu1.virgo.infn.it\u001b[0m \u001b[34mroot[6961]\u001b[0m \u001b[1;30mINFO\u001b[0m Start AR parameter estimation\n",
      "\u001b[32m2024-02-28 15:21:07\u001b[0m \u001b[35mservergpu1.virgo.infn.it\u001b[0m \u001b[34mroot[6959]\u001b[0m \u001b[1;30mINFO\u001b[0m Start AR parameter estimation\n"
     ]
    }
   ],
   "source": [
    "# ---- Run multiprocess wdf (without state vectors) ----  \n",
    "with mp.Pool(par.nproc) as p:\n",
    "    wdf=wdfUnitDSWorker(par,fullPrint=3)   \n",
    "    p.map(wdf.segmentProcess, par.segments)\n",
    "    p.close()   \n",
    "\n",
    "logging.info(\"Job complete!\")"
   ]
  },
  {
   "cell_type": "code",
   "execution_count": null,
   "id": "3372b9c1",
   "metadata": {},
   "outputs": [],
   "source": []
  }
 ],
 "metadata": {
  "kernelspec": {
   "display_name": "Python 3 (ipykernel)",
   "language": "python",
   "name": "python3"
  },
  "language_info": {
   "codemirror_mode": {
    "name": "ipython",
    "version": 3
   },
   "file_extension": ".py",
   "mimetype": "text/x-python",
   "name": "python",
   "nbconvert_exporter": "python",
   "pygments_lexer": "ipython3",
   "version": "3.11.2"
  }
 },
 "nbformat": 4,
 "nbformat_minor": 5
}
